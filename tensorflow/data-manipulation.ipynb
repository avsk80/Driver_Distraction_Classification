{
 "cells": [
  {
   "cell_type": "code",
   "execution_count": 1,
   "metadata": {
    "collapsed": true
   },
   "outputs": [],
   "source": [
    "from PIL import Image\n",
    "import os"
   ]
  },
  {
   "cell_type": "code",
   "execution_count": 8,
   "metadata": {
    "collapsed": true
   },
   "outputs": [],
   "source": [
    "def resize_images(data_path, resized_path, k):\n",
    "    \n",
    "    size = 24, 24\n",
    "\n",
    "    for i in range(k):\n",
    "        curr_dir_path = data_path + 'c' + str(i) + '/'\n",
    "        resized_dir_path = resized_path + 'c' + str(i) + '/'\n",
    "        \n",
    "        for file in os.listdir(curr_dir_path):\n",
    "            file_name = os.fsdecode(file)\n",
    "\n",
    "            if file_name.endswith(\".jpg\"):\n",
    "                \n",
    "                file_path = (os.path.join(curr_dir_path, file_name))\n",
    "                \n",
    "                img = Image.open(file_path)\n",
    "                img = img.resize(size, Image.ANTIALIAS)\n",
    "                \n",
    "                # if the directory doesn't exist, create it\n",
    "                if (not os.path.exists(resized_dir_path)):\n",
    "                    os.makedirs(resized_dir_path)\n",
    "                \n",
    "                img.save(resized_dir_path + file_name, 'JPEG')"
   ]
  },
  {
   "cell_type": "code",
   "execution_count": null,
   "metadata": {
    "collapsed": true
   },
   "outputs": [],
   "source": [
    "# increase the amount of data by applying rotation\n",
    "def augment_data(data_path, k):\n",
    "    \n",
    "    # remove previous images, if any\n",
    "    os.system('find ' + data_path + ' -name \\'*-new*\\' -delete')\n",
    "\n",
    "    for k in range(NUM_CLASSES):\n",
    "        curr_dir_path = data_path + 'c' + str(k) + '/'\n",
    "\n",
    "        for file in os.listdir(curr_dir_path):\n",
    "\n",
    "            file_name = os.fsdecode(file)\n",
    "            \n",
    "            # for each image found, generate a rotated copy\n",
    "            if file_name.endswith(\".jpg\"):\n",
    "\n",
    "                file_path = (os.path.join(curr_dir_path, file_name))\n",
    "\n",
    "                new_file_name = os.path.splitext(file_name)[0] + '-new.jpg'\n",
    "                \n",
    "                rotation_degree = 0\n",
    "                while rotation_degree == 0:\n",
    "                    rotation_degree = random.randint(-10, 10)\n",
    "\n",
    "                image = Image.open(file_path)\n",
    "                new_image = image.rotate(rotation_degree, resample=Image.BICUBIC)\n",
    "                new_image.save(curr_dir_path + new_file_name, 'JPEG')"
   ]
  },
  {
   "cell_type": "code",
   "execution_count": 10,
   "metadata": {
    "collapsed": true
   },
   "outputs": [],
   "source": [
    "NUM_CLASSES = 10\n",
    "data_path = '../dataset/original/train/'\n",
    "resized_path = '../dataset/resized/'\n",
    "\n",
    "# augment data by generating more images\n",
    "# augment_data(data_path, k)\n",
    "\n",
    "resize_images(data_path, resized_path, NUM_CLASSES)"
   ]
  }
 ],
 "metadata": {
  "kernelspec": {
   "display_name": "Python 3",
   "language": "python",
   "name": "python3"
  },
  "language_info": {
   "codemirror_mode": {
    "name": "ipython",
    "version": 3
   },
   "file_extension": ".py",
   "mimetype": "text/x-python",
   "name": "python",
   "nbconvert_exporter": "python",
   "pygments_lexer": "ipython3",
   "version": "3.6.1"
  }
 },
 "nbformat": 4,
 "nbformat_minor": 2
}
